{
 "cells": [
  {
   "cell_type": "code",
   "execution_count": 1,
   "id": "52692f26-3722-44e2-976f-b397f06cb216",
   "metadata": {},
   "outputs": [
    {
     "name": "stderr",
     "output_type": "stream",
     "text": [
      "C:\\Users\\15-dc003\\AppData\\Local\\Temp/ipykernel_23968/3127025585.py:4: UserWarning: \n",
      "The dash_html_components package is deprecated. Please replace\n",
      "`import dash_html_components as html` with `from dash import html`\n",
      "  import dash_html_components as html\n",
      "C:\\Users\\15-dc003\\AppData\\Local\\Temp/ipykernel_23968/3127025585.py:5: UserWarning: \n",
      "The dash_core_components package is deprecated. Please replace\n",
      "`import dash_core_components as dcc` with `from dash import dcc`\n",
      "  import dash_core_components as dcc\n"
     ]
    }
   ],
   "source": [
    "import pandas as pd \n",
    "import plotly.express as px \n",
    "from jupyter_dash import JupyterDash\n",
    "import dash_html_components as html \n",
    "import dash_core_components as dcc\n",
    "from dash.dependencies import Input, Output"
   ]
  },
  {
   "cell_type": "code",
   "execution_count": 2,
   "id": "01b54df8-f975-4ca1-9e16-333ea4e621fe",
   "metadata": {},
   "outputs": [
    {
     "name": "stdout",
     "output_type": "stream",
     "text": [
      "<class 'pandas.core.frame.DataFrame'>\n",
      "RangeIndex: 33045 entries, 0 to 33044\n",
      "Data columns (total 13 columns):\n",
      " #   Column         Non-Null Count  Dtype  \n",
      "---  ------         --------------  -----  \n",
      " 0   date           33045 non-null  object \n",
      " 1   average_price  33045 non-null  float64\n",
      " 2   total_volume   33045 non-null  float64\n",
      " 3   4046           33045 non-null  float64\n",
      " 4   4225           33045 non-null  float64\n",
      " 5   4770           33045 non-null  float64\n",
      " 6   total_bags     33045 non-null  float64\n",
      " 7   small_bags     33045 non-null  float64\n",
      " 8   large_bags     33045 non-null  float64\n",
      " 9   xlarge_bags    33045 non-null  float64\n",
      " 10  type           33045 non-null  object \n",
      " 11  year           33045 non-null  int64  \n",
      " 12  geography      33045 non-null  object \n",
      "dtypes: float64(9), int64(1), object(3)\n",
      "memory usage: 3.3+ MB\n"
     ]
    }
   ],
   "source": [
    "AvoData = pd.read_csv('avocado-updated-2020.csv')\n",
    "AvoData.info()"
   ]
  },
  {
   "cell_type": "code",
   "execution_count": 6,
   "id": "d90fe326-7018-4f13-bf4e-070fce11689f",
   "metadata": {},
   "outputs": [
    {
     "name": "stdout",
     "output_type": "stream",
     "text": [
      "Dash app running on http://127.0.0.1:8050/\n"
     ]
    }
   ],
   "source": [
    "app = JupyterDash(__name__)\n",
    "\n",
    "app.layout = html.Div(\n",
    "    className = 'app-body',\n",
    "    children = [\n",
    "        html.Div(\n",
    "            className = 'app-header',\n",
    "            children = [\n",
    "                html.Img(src=app.get_asset_url('Avo.png'), width=100),\n",
    "                html.H1('Avocado Prices In USA')\n",
    "            ]\n",
    "        ),\n",
    "        html.Div(\n",
    "            className = 'app-options',\n",
    "            children = [\n",
    "                html.P('Choose which state to view it\\'s data: '),\n",
    "                dcc.Dropdown(\n",
    "                    id = 'app-dropdown-state',\n",
    "                    options = [x for x in AvoData['geography'].unique()]\n",
    "                )\n",
    "        #,html.Br()\n",
    "            ]\n",
    "        ),\n",
    "        dcc.Graph(\n",
    "            id = 'app-graph-state'\n",
    "        )\n",
    "    ]\n",
    ")\n",
    "\n",
    "@app.callback(\n",
    "Output('app-graph-state', 'figure'),\n",
    "Input('app-dropdown-state','value')\n",
    ")\n",
    "\n",
    "def UpdateOutput(value):\n",
    "    FillterAvoData = AvoData[AvoData['geography'] == value ]\n",
    "    LineChart = px.line(FillterAvoData , x='date' , y='average_price' , color='type')\n",
    "    \n",
    "    return LineChart\n",
    "\n",
    "if __name__ == '__main__':\n",
    "    app.run_server()"
   ]
  },
  {
   "cell_type": "code",
   "execution_count": null,
   "id": "67cbb725-84dc-4013-9f44-6e3d007e1fea",
   "metadata": {},
   "outputs": [],
   "source": []
  }
 ],
 "metadata": {
  "kernelspec": {
   "display_name": "Python 3 (ipykernel)",
   "language": "python",
   "name": "python3"
  },
  "language_info": {
   "codemirror_mode": {
    "name": "ipython",
    "version": 3
   },
   "file_extension": ".py",
   "mimetype": "text/x-python",
   "name": "python",
   "nbconvert_exporter": "python",
   "pygments_lexer": "ipython3",
   "version": "3.9.7"
  }
 },
 "nbformat": 4,
 "nbformat_minor": 5
}
